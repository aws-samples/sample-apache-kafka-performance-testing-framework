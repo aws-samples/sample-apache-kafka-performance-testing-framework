{
 "cells": [
  {
   "cell_type": "markdown",
   "metadata": {},
   "source": [
    "# Apache Kafka Performance Testing Framework - Dependencies Installation\n",
    "\n",
    "This notebook installs the required dependencies for the performance testing framework:\n",
    "\n",
    "### Core Dependencies\n",
    "- AWS SDK (boto3) for AWS service interactions\n",
    "- NumPy for numerical computations\n",
    "- Matplotlib for data visualization\n",
    "- AWS CLI v2 for command-line interface with AWS services\n",
    "\n",
    "### Additional Utilities\n",
    "- more-itertools for extended iteration utilities\n",
    "- jupyterlab-git for Git integration in JupyterLab\n",
    "- nbdime for notebook diffing and merging\n",
    "- flatten-dict for dictionary manipulation\n",
    "\n",
    "### Documentation Dependencies\n",
    "- docutils for documentation processing\n",
    "- sphinx for documentation generation\n",
    "- packaging for version number handling\n",
    "\n",
    "The `setup()` function from `utils.installer` handles the installation process and ensures all necessary packages are available for the framework.\n",
    "\n",
    "Run the below cell:"
   ]
  },
  {
   "cell_type": "code",
   "execution_count": null,
   "metadata": {},
   "outputs": [],
   "source": [
    "# Import custom module and install dependencies\n",
    "from utils.installer import setup\n",
    "\n",
    "setup()"
   ]
  }
 ],
 "metadata": {
  "kernelspec": {
   "display_name": "conda_python3",
   "language": "python",
   "name": "conda_python3"
  },
  "language_info": {
   "codemirror_mode": {
    "name": "ipython",
    "version": 3
   },
   "file_extension": ".py",
   "mimetype": "text/x-python",
   "name": "python",
   "nbconvert_exporter": "python",
   "pygments_lexer": "ipython3",
   "version": "3.6.13"
  }
 },
 "nbformat": 4,
 "nbformat_minor": 4
}
